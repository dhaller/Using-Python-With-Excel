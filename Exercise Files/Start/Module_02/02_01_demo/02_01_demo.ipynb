{
 "cells": [
  {
   "cell_type": "code",
   "execution_count": 1,
   "id": "de2c86aa",
   "metadata": {},
   "outputs": [],
   "source": [
    "from openpyxl.workbook import Workbook\n",
    "from openpyxl import load_workbook"
   ]
  },
  {
   "cell_type": "code",
   "execution_count": 2,
   "id": "99549457",
   "metadata": {},
   "outputs": [],
   "source": [
    "wb = Workbook()\n",
    "ws = wb.active\n",
    "ws.title = 'MySheet'"
   ]
  },
  {
   "cell_type": "code",
   "execution_count": 3,
   "id": "be275ba1",
   "metadata": {},
   "outputs": [],
   "source": [
    "ws2 = wb.create_sheet('Another sheet',0)"
   ]
  },
  {
   "cell_type": "code",
   "execution_count": 4,
   "id": "d185557f",
   "metadata": {},
   "outputs": [
    {
     "data": {
      "text/plain": [
       "['Another sheet', 'MySheet']"
      ]
     },
     "execution_count": 4,
     "metadata": {},
     "output_type": "execute_result"
    }
   ],
   "source": [
    "wb.sheetnames"
   ]
  },
  {
   "cell_type": "code",
   "execution_count": 5,
   "id": "dee0893e",
   "metadata": {},
   "outputs": [],
   "source": [
    "wb.save('hello-openpyxl.xlsx')"
   ]
  },
  {
   "cell_type": "code",
   "execution_count": 8,
   "id": "09b9f801",
   "metadata": {},
   "outputs": [],
   "source": [
    "wb2 = load_workbook('regions.xlsx')\n",
    "active_sheet = wb2.active\n",
    "active_sheet['A1'] = 0"
   ]
  },
  {
   "cell_type": "code",
   "execution_count": 9,
   "id": "13fb4801",
   "metadata": {},
   "outputs": [],
   "source": [
    "wb2.save('regions-modified.xlsx')"
   ]
  },
  {
   "cell_type": "code",
   "execution_count": null,
   "id": "0e48a2e3",
   "metadata": {},
   "outputs": [],
   "source": []
  }
 ],
 "metadata": {
  "kernelspec": {
   "display_name": "Python 3 (ipykernel)",
   "language": "python",
   "name": "python3"
  },
  "language_info": {
   "codemirror_mode": {
    "name": "ipython",
    "version": 3
   },
   "file_extension": ".py",
   "mimetype": "text/x-python",
   "name": "python",
   "nbconvert_exporter": "python",
   "pygments_lexer": "ipython3",
   "version": "3.11.5"
  }
 },
 "nbformat": 4,
 "nbformat_minor": 5
}
